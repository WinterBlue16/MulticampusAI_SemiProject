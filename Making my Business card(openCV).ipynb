{
 "cells": [
  {
   "cell_type": "code",
   "execution_count": 10,
   "metadata": {},
   "outputs": [],
   "source": [
    "# 라이브러리 불러오기\n",
    "\n",
    "import cv2\n",
    "import matplotlib.pyplot as plt\n",
    "from PIL import ImageFont, ImageDraw, Image\n",
    "import numpy as np\n",
    "\n",
    "# 도화지 만들기\n",
    "\n",
    "img1 = cv2.imread(\"img/1693746.png\")\n",
    "img1 = cv2.resize(img1, (500, 300))\n",
    "\n",
    "img_fg = cv2.imread('img/opencv_logo.png', cv2.IMREAD_UNCHANGED)\n",
    "img2 = np.full((450, 700, 3), (250, 100, 50), np.uint8)\n",
    "\n",
    "#마스크 생성, 합성할 이미지 전체 영역을 255로 셋팅\n",
    "mask = np.full_like(img1, 255)\n",
    "\n",
    "_, mask2 = cv2.threshold(img_fg[:,:,3], 1, 255, cv2.THRESH_BINARY) # BGRA라 겹이 4개\n",
    "mask_inv = cv2.bitwise_not(mask2)\n",
    "\n",
    "#합성 대상 좌표 계산(img2의 중앙)\n",
    "height, width = img2.shape[:2]\n",
    "center = (width//2, height//2) # 너비와 높이의 중간 좌표 지정\n",
    "\n",
    "#seamlessClone 으로 합성 \n",
    "mixed = cv2.seamlessClone(img1, img2, mask, center, cv2.NORMAL_CLONE) # 합성 시 자연스럽게 보이도록 함\n",
    "\n",
    "#open cv logo 삽입\n",
    "img_fg = cv2.cvtColor(img_fg, cv2.COLOR_BGRA2BGR)\n",
    "h, w = img_fg.shape[:2]\n",
    "roi = mixed[30:30+h, 570:570+w]\n",
    "masked_fg = cv2.bitwise_and(img_fg, img_fg, mask=mask2)\n",
    "masked_bg = cv2.bitwise_and(roi, roi, mask=mask_inv)\n",
    "added = masked_fg + masked_bg\n",
    "mixed[30:30+h, 570:570+w] = added\n",
    "\n",
    "# Text 삽입\n",
    "mixed = cv2.putText(mixed, 'Kyunghee Lee', (45, 125), cv2.FONT_HERSHEY_DUPLEX, 2, (255, 255, 255))\n",
    "mixed = cv2.putText(mixed, 'Engineer', (50, 170), cv2.FONT_HERSHEY_PLAIN, 2, (255, 255, 255))\n",
    "mixed = cv2.putText(mixed, 'M : +82 10-xxxx-xxxx', (50, 290), cv2.FONT_HERSHEY_SIMPLEX, 1, (255, 255, 255))\n",
    "mixed = cv2.putText(mixed, 'E : leekh090163@gmail.com', (50, 330), cv2.FONT_HERSHEY_SIMPLEX, 1, (255, 255, 255))\n",
    "mixed = cv2.putText(mixed, 'W : https://github.com/WinterBlue16', (50, 370), cv2.FONT_HERSHEY_SIMPLEX, 1, (255, 255, 255))\n",
    "\n",
    "#결과 출력\n",
    "# plt.axis('off')\n",
    "# plt.imshow(cv2.cvtColor(mixed, cv2.COLOR_BGR2RGB))\n",
    "# plt.show()\n",
    "\n",
    "cv2.imwrite(\"business card.png\", mixed)\n",
    "#새 창으로 열기\n",
    "cv2.imshow('mixed', mixed)\n",
    "cv2.waitKey(0)\n",
    "cv2.destroyAllWindows()\n"
   ]
  },
  {
   "cell_type": "code",
   "execution_count": null,
   "metadata": {},
   "outputs": [],
   "source": []
  }
 ],
 "metadata": {
  "kernelspec": {
   "display_name": "Python 3",
   "language": "python",
   "name": "python3"
  },
  "language_info": {
   "codemirror_mode": {
    "name": "ipython",
    "version": 3
   },
   "file_extension": ".py",
   "mimetype": "text/x-python",
   "name": "python",
   "nbconvert_exporter": "python",
   "pygments_lexer": "ipython3",
   "version": "3.7.3"
  }
 },
 "nbformat": 4,
 "nbformat_minor": 2
}

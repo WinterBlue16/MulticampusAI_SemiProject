{
 "cells": [
  {
   "cell_type": "markdown",
   "metadata": {},
   "source": [
    "# semiproject01_다음 포털 기사 댓글, 답댓글 크롤링 \n",
    "> 댓글만 크롤링하던 기존 크롤링에서 한 발 더 나아가 댓글에 달린 답댓글까지 크롤링할 수 있는 코드를 만들어 본다. "
   ]
  },
  {
   "cell_type": "code",
   "execution_count": 9,
   "metadata": {},
   "outputs": [],
   "source": [
    "# 라이브러리 불러오기\n",
    "import requests \n",
    "from bs4 import BeautifulSoup\n",
    "\n",
    "import pandas as pd\n",
    "from datetime import datetime\n",
    "import time\n",
    "import re"
   ]
  },
  {
   "cell_type": "code",
   "execution_count": 10,
   "metadata": {},
   "outputs": [],
   "source": [
    "# 기사 검색어 지정\n",
    "query = '서유열'\n",
    "url = 'https://search.daum.net/search?w=news&q='+query \n",
    "\n",
    "urls_list = [] #기사 url 담을 list"
   ]
  },
  {
   "cell_type": "code",
   "execution_count": 11,
   "metadata": {
    "scrolled": true
   },
   "outputs": [
    {
     "name": "stdout",
     "output_type": "stream",
     "text": [
      "0\n",
      "['http://v.media.daum.net/v/20191223103054419', '?w=news&req=tab&q=%EC%84%9C%EC%9C%A0%EC%97%B4&viewio=i&repno=0&n=10&p=1&related_page=1&cluster_docid=26XBvgLSOWf_CCJal6', 'http://v.media.daum.net/v/20191220060311094', 'http://v.media.daum.net/v/20191220164805947', 'http://v.media.daum.net/v/20191122143218582', 'http://v.media.daum.net/v/20191122143234590', 'http://v.media.daum.net/v/20191122143233589', 'http://v.media.daum.net/v/20191122163709964', '?w=news&req=tab&q=%EC%84%9C%EC%9C%A0%EC%97%B4&viewio=i&repno=0&n=10&p=1&related_page=1&cluster_docid=26cE5Ah4HU6FZGXetM', 'http://v.media.daum.net/v/20191122173603808', 'http://v.media.daum.net/v/20191122154027953', 'http://v.media.daum.net/v/20191101100331489', 'http://v.media.daum.net/v/20191010113137033', 'http://v.media.daum.net/v/20191010131801794', 'http://v.media.daum.net/v/20191010154625605', '?w=news&req=tab&q=%EC%84%9C%EC%9C%A0%EC%97%B4&viewio=i&repno=0&n=10&p=1&related_page=1&cluster_docid=26doS71xahy2P7Btlz']\n"
     ]
    }
   ],
   "source": [
    "# html 소스에서 기사 url 전부 뽑아내기\n",
    "for i in range(1): \n",
    "    print (i)\n",
    "    url=url+\"&p=\"+str(i)\n",
    "\n",
    "    web = requests.get(url).content\n",
    "    source = BeautifulSoup(web, 'html.parser')\n",
    "\n",
    "    for urls in source.find_all('a', {'class' : \"f_nb\"}): # urls 중 a 태그 속에 'f_nb'라는 class를 가진 urls 추출\n",
    "        urls_list.append(urls[\"href\"]) # 해당 urls에서 링크 부분에 해당하는 href 부분만 추출\n",
    "\n",
    "print(urls_list)\n",
    "# urls_list[0]"
   ]
  },
  {
   "cell_type": "code",
   "execution_count": 12,
   "metadata": {},
   "outputs": [
    {
     "name": "stdout",
     "output_type": "stream",
     "text": [
      "16\n"
     ]
    }
   ],
   "source": [
    "print(len(urls_list))"
   ]
  },
  {
   "cell_type": "code",
   "execution_count": 1,
   "metadata": {
    "scrolled": true
   },
   "outputs": [
    {
     "ename": "KeyboardInterrupt",
     "evalue": "",
     "output_type": "error",
     "traceback": [
      "\u001b[1;31m---------------------------------------------------------------------------\u001b[0m",
      "\u001b[1;31mKeyboardInterrupt\u001b[0m                         Traceback (most recent call last)",
      "\u001b[1;32m<ipython-input-1-3c17844f850d>\u001b[0m in \u001b[0;36m<module>\u001b[1;34m\u001b[0m\n\u001b[0;32m      7\u001b[0m \u001b[1;31m# 크롤링을 위한 준비 단계\u001b[0m\u001b[1;33m\u001b[0m\u001b[1;33m\u001b[0m\u001b[1;33m\u001b[0m\u001b[0m\n\u001b[0;32m      8\u001b[0m \u001b[1;31m# 크롬 드라이버 파일 불러오기(크롬이 아닌 다른 브라우저에서는 다른 파일이 요구됨)\u001b[0m\u001b[1;33m\u001b[0m\u001b[1;33m\u001b[0m\u001b[1;33m\u001b[0m\u001b[0m\n\u001b[1;32m----> 9\u001b[1;33m \u001b[0mdriver\u001b[0m \u001b[1;33m=\u001b[0m \u001b[0mwebdriver\u001b[0m\u001b[1;33m.\u001b[0m\u001b[0mChrome\u001b[0m\u001b[1;33m(\u001b[0m\u001b[0mexecutable_path\u001b[0m\u001b[1;33m=\u001b[0m\u001b[1;34m'(driver) chromedriver.exe'\u001b[0m\u001b[1;33m)\u001b[0m\u001b[1;33m\u001b[0m\u001b[1;33m\u001b[0m\u001b[0m\n\u001b[0m\u001b[0;32m     10\u001b[0m \u001b[0mcomments\u001b[0m\u001b[1;33m=\u001b[0m\u001b[1;33m[\u001b[0m\u001b[1;33m]\u001b[0m \u001b[1;31m#댓글들 담을 list\u001b[0m\u001b[1;33m\u001b[0m\u001b[1;33m\u001b[0m\u001b[0m\n\u001b[0;32m     11\u001b[0m \u001b[1;33m\u001b[0m\u001b[0m\n",
      "\u001b[1;32m~\\Anaconda3\\lib\\site-packages\\selenium\\webdriver\\chrome\\webdriver.py\u001b[0m in \u001b[0;36m__init__\u001b[1;34m(self, executable_path, port, options, service_args, desired_capabilities, service_log_path, chrome_options)\u001b[0m\n\u001b[0;32m     73\u001b[0m                 command_executor=ChromeRemoteConnection(\n\u001b[0;32m     74\u001b[0m                     remote_server_addr=self.service.service_url),\n\u001b[1;32m---> 75\u001b[1;33m                 desired_capabilities=desired_capabilities)\n\u001b[0m\u001b[0;32m     76\u001b[0m         \u001b[1;32mexcept\u001b[0m \u001b[0mException\u001b[0m\u001b[1;33m:\u001b[0m\u001b[1;33m\u001b[0m\u001b[1;33m\u001b[0m\u001b[0m\n\u001b[0;32m     77\u001b[0m             \u001b[0mself\u001b[0m\u001b[1;33m.\u001b[0m\u001b[0mquit\u001b[0m\u001b[1;33m(\u001b[0m\u001b[1;33m)\u001b[0m\u001b[1;33m\u001b[0m\u001b[1;33m\u001b[0m\u001b[0m\n",
      "\u001b[1;32m~\\Anaconda3\\lib\\site-packages\\selenium\\webdriver\\remote\\webdriver.py\u001b[0m in \u001b[0;36m__init__\u001b[1;34m(self, command_executor, desired_capabilities, browser_profile, proxy, keep_alive, file_detector, options)\u001b[0m\n\u001b[0;32m    152\u001b[0m             warnings.warn(\"Please use FirefoxOptions to set browser profile\",\n\u001b[0;32m    153\u001b[0m                           DeprecationWarning)\n\u001b[1;32m--> 154\u001b[1;33m         \u001b[0mself\u001b[0m\u001b[1;33m.\u001b[0m\u001b[0mstart_session\u001b[0m\u001b[1;33m(\u001b[0m\u001b[0mdesired_capabilities\u001b[0m\u001b[1;33m,\u001b[0m \u001b[0mbrowser_profile\u001b[0m\u001b[1;33m)\u001b[0m\u001b[1;33m\u001b[0m\u001b[1;33m\u001b[0m\u001b[0m\n\u001b[0m\u001b[0;32m    155\u001b[0m         \u001b[0mself\u001b[0m\u001b[1;33m.\u001b[0m\u001b[0m_switch_to\u001b[0m \u001b[1;33m=\u001b[0m \u001b[0mSwitchTo\u001b[0m\u001b[1;33m(\u001b[0m\u001b[0mself\u001b[0m\u001b[1;33m)\u001b[0m\u001b[1;33m\u001b[0m\u001b[1;33m\u001b[0m\u001b[0m\n\u001b[0;32m    156\u001b[0m         \u001b[0mself\u001b[0m\u001b[1;33m.\u001b[0m\u001b[0m_mobile\u001b[0m \u001b[1;33m=\u001b[0m \u001b[0mMobile\u001b[0m\u001b[1;33m(\u001b[0m\u001b[0mself\u001b[0m\u001b[1;33m)\u001b[0m\u001b[1;33m\u001b[0m\u001b[1;33m\u001b[0m\u001b[0m\n",
      "\u001b[1;32m~\\Anaconda3\\lib\\site-packages\\selenium\\webdriver\\remote\\webdriver.py\u001b[0m in \u001b[0;36mstart_session\u001b[1;34m(self, capabilities, browser_profile)\u001b[0m\n\u001b[0;32m    241\u001b[0m         parameters = {\"capabilities\": w3c_caps,\n\u001b[0;32m    242\u001b[0m                       \"desiredCapabilities\": capabilities}\n\u001b[1;32m--> 243\u001b[1;33m         \u001b[0mresponse\u001b[0m \u001b[1;33m=\u001b[0m \u001b[0mself\u001b[0m\u001b[1;33m.\u001b[0m\u001b[0mexecute\u001b[0m\u001b[1;33m(\u001b[0m\u001b[0mCommand\u001b[0m\u001b[1;33m.\u001b[0m\u001b[0mNEW_SESSION\u001b[0m\u001b[1;33m,\u001b[0m \u001b[0mparameters\u001b[0m\u001b[1;33m)\u001b[0m\u001b[1;33m\u001b[0m\u001b[1;33m\u001b[0m\u001b[0m\n\u001b[0m\u001b[0;32m    244\u001b[0m         \u001b[1;32mif\u001b[0m \u001b[1;34m'sessionId'\u001b[0m \u001b[1;32mnot\u001b[0m \u001b[1;32min\u001b[0m \u001b[0mresponse\u001b[0m\u001b[1;33m:\u001b[0m\u001b[1;33m\u001b[0m\u001b[1;33m\u001b[0m\u001b[0m\n\u001b[0;32m    245\u001b[0m             \u001b[0mresponse\u001b[0m \u001b[1;33m=\u001b[0m \u001b[0mresponse\u001b[0m\u001b[1;33m[\u001b[0m\u001b[1;34m'value'\u001b[0m\u001b[1;33m]\u001b[0m\u001b[1;33m\u001b[0m\u001b[1;33m\u001b[0m\u001b[0m\n",
      "\u001b[1;32m~\\Anaconda3\\lib\\site-packages\\selenium\\webdriver\\remote\\webdriver.py\u001b[0m in \u001b[0;36mexecute\u001b[1;34m(self, driver_command, params)\u001b[0m\n\u001b[0;32m    308\u001b[0m \u001b[1;33m\u001b[0m\u001b[0m\n\u001b[0;32m    309\u001b[0m         \u001b[0mparams\u001b[0m \u001b[1;33m=\u001b[0m \u001b[0mself\u001b[0m\u001b[1;33m.\u001b[0m\u001b[0m_wrap_value\u001b[0m\u001b[1;33m(\u001b[0m\u001b[0mparams\u001b[0m\u001b[1;33m)\u001b[0m\u001b[1;33m\u001b[0m\u001b[1;33m\u001b[0m\u001b[0m\n\u001b[1;32m--> 310\u001b[1;33m         \u001b[0mresponse\u001b[0m \u001b[1;33m=\u001b[0m \u001b[0mself\u001b[0m\u001b[1;33m.\u001b[0m\u001b[0mcommand_executor\u001b[0m\u001b[1;33m.\u001b[0m\u001b[0mexecute\u001b[0m\u001b[1;33m(\u001b[0m\u001b[0mdriver_command\u001b[0m\u001b[1;33m,\u001b[0m \u001b[0mparams\u001b[0m\u001b[1;33m)\u001b[0m\u001b[1;33m\u001b[0m\u001b[1;33m\u001b[0m\u001b[0m\n\u001b[0m\u001b[0;32m    311\u001b[0m         \u001b[1;32mif\u001b[0m \u001b[0mresponse\u001b[0m\u001b[1;33m:\u001b[0m\u001b[1;33m\u001b[0m\u001b[1;33m\u001b[0m\u001b[0m\n\u001b[0;32m    312\u001b[0m             \u001b[0mself\u001b[0m\u001b[1;33m.\u001b[0m\u001b[0merror_handler\u001b[0m\u001b[1;33m.\u001b[0m\u001b[0mcheck_response\u001b[0m\u001b[1;33m(\u001b[0m\u001b[0mresponse\u001b[0m\u001b[1;33m)\u001b[0m\u001b[1;33m\u001b[0m\u001b[1;33m\u001b[0m\u001b[0m\n",
      "\u001b[1;32m~\\Anaconda3\\lib\\site-packages\\selenium\\webdriver\\remote\\remote_connection.py\u001b[0m in \u001b[0;36mexecute\u001b[1;34m(self, command, params)\u001b[0m\n\u001b[0;32m    464\u001b[0m         \u001b[0mdata\u001b[0m \u001b[1;33m=\u001b[0m \u001b[0mutils\u001b[0m\u001b[1;33m.\u001b[0m\u001b[0mdump_json\u001b[0m\u001b[1;33m(\u001b[0m\u001b[0mparams\u001b[0m\u001b[1;33m)\u001b[0m\u001b[1;33m\u001b[0m\u001b[1;33m\u001b[0m\u001b[0m\n\u001b[0;32m    465\u001b[0m         \u001b[0murl\u001b[0m \u001b[1;33m=\u001b[0m \u001b[1;34m'%s%s'\u001b[0m \u001b[1;33m%\u001b[0m \u001b[1;33m(\u001b[0m\u001b[0mself\u001b[0m\u001b[1;33m.\u001b[0m\u001b[0m_url\u001b[0m\u001b[1;33m,\u001b[0m \u001b[0mpath\u001b[0m\u001b[1;33m)\u001b[0m\u001b[1;33m\u001b[0m\u001b[1;33m\u001b[0m\u001b[0m\n\u001b[1;32m--> 466\u001b[1;33m         \u001b[1;32mreturn\u001b[0m \u001b[0mself\u001b[0m\u001b[1;33m.\u001b[0m\u001b[0m_request\u001b[0m\u001b[1;33m(\u001b[0m\u001b[0mcommand_info\u001b[0m\u001b[1;33m[\u001b[0m\u001b[1;36m0\u001b[0m\u001b[1;33m]\u001b[0m\u001b[1;33m,\u001b[0m \u001b[0murl\u001b[0m\u001b[1;33m,\u001b[0m \u001b[0mbody\u001b[0m\u001b[1;33m=\u001b[0m\u001b[0mdata\u001b[0m\u001b[1;33m)\u001b[0m\u001b[1;33m\u001b[0m\u001b[1;33m\u001b[0m\u001b[0m\n\u001b[0m\u001b[0;32m    467\u001b[0m \u001b[1;33m\u001b[0m\u001b[0m\n\u001b[0;32m    468\u001b[0m     \u001b[1;32mdef\u001b[0m \u001b[0m_request\u001b[0m\u001b[1;33m(\u001b[0m\u001b[0mself\u001b[0m\u001b[1;33m,\u001b[0m \u001b[0mmethod\u001b[0m\u001b[1;33m,\u001b[0m \u001b[0murl\u001b[0m\u001b[1;33m,\u001b[0m \u001b[0mbody\u001b[0m\u001b[1;33m=\u001b[0m\u001b[1;32mNone\u001b[0m\u001b[1;33m)\u001b[0m\u001b[1;33m:\u001b[0m\u001b[1;33m\u001b[0m\u001b[1;33m\u001b[0m\u001b[0m\n",
      "\u001b[1;32m~\\Anaconda3\\lib\\site-packages\\selenium\\webdriver\\remote\\remote_connection.py\u001b[0m in \u001b[0;36m_request\u001b[1;34m(self, method, url, body)\u001b[0m\n\u001b[0;32m    488\u001b[0m             \u001b[1;32mtry\u001b[0m\u001b[1;33m:\u001b[0m\u001b[1;33m\u001b[0m\u001b[1;33m\u001b[0m\u001b[0m\n\u001b[0;32m    489\u001b[0m                 \u001b[0mself\u001b[0m\u001b[1;33m.\u001b[0m\u001b[0m_conn\u001b[0m\u001b[1;33m.\u001b[0m\u001b[0mrequest\u001b[0m\u001b[1;33m(\u001b[0m\u001b[0mmethod\u001b[0m\u001b[1;33m,\u001b[0m \u001b[0mparsed_url\u001b[0m\u001b[1;33m.\u001b[0m\u001b[0mpath\u001b[0m\u001b[1;33m,\u001b[0m \u001b[0mbody\u001b[0m\u001b[1;33m,\u001b[0m \u001b[0mheaders\u001b[0m\u001b[1;33m)\u001b[0m\u001b[1;33m\u001b[0m\u001b[1;33m\u001b[0m\u001b[0m\n\u001b[1;32m--> 490\u001b[1;33m                 \u001b[0mresp\u001b[0m \u001b[1;33m=\u001b[0m \u001b[0mself\u001b[0m\u001b[1;33m.\u001b[0m\u001b[0m_conn\u001b[0m\u001b[1;33m.\u001b[0m\u001b[0mgetresponse\u001b[0m\u001b[1;33m(\u001b[0m\u001b[1;33m)\u001b[0m\u001b[1;33m\u001b[0m\u001b[1;33m\u001b[0m\u001b[0m\n\u001b[0m\u001b[0;32m    491\u001b[0m             \u001b[1;32mexcept\u001b[0m \u001b[1;33m(\u001b[0m\u001b[0mhttplib\u001b[0m\u001b[1;33m.\u001b[0m\u001b[0mHTTPException\u001b[0m\u001b[1;33m,\u001b[0m \u001b[0msocket\u001b[0m\u001b[1;33m.\u001b[0m\u001b[0merror\u001b[0m\u001b[1;33m)\u001b[0m\u001b[1;33m:\u001b[0m\u001b[1;33m\u001b[0m\u001b[1;33m\u001b[0m\u001b[0m\n\u001b[0;32m    492\u001b[0m                 \u001b[0mself\u001b[0m\u001b[1;33m.\u001b[0m\u001b[0m_conn\u001b[0m\u001b[1;33m.\u001b[0m\u001b[0mclose\u001b[0m\u001b[1;33m(\u001b[0m\u001b[1;33m)\u001b[0m\u001b[1;33m\u001b[0m\u001b[1;33m\u001b[0m\u001b[0m\n",
      "\u001b[1;32m~\\Anaconda3\\lib\\http\\client.py\u001b[0m in \u001b[0;36mgetresponse\u001b[1;34m(self)\u001b[0m\n\u001b[0;32m   1319\u001b[0m         \u001b[1;32mtry\u001b[0m\u001b[1;33m:\u001b[0m\u001b[1;33m\u001b[0m\u001b[1;33m\u001b[0m\u001b[0m\n\u001b[0;32m   1320\u001b[0m             \u001b[1;32mtry\u001b[0m\u001b[1;33m:\u001b[0m\u001b[1;33m\u001b[0m\u001b[1;33m\u001b[0m\u001b[0m\n\u001b[1;32m-> 1321\u001b[1;33m                 \u001b[0mresponse\u001b[0m\u001b[1;33m.\u001b[0m\u001b[0mbegin\u001b[0m\u001b[1;33m(\u001b[0m\u001b[1;33m)\u001b[0m\u001b[1;33m\u001b[0m\u001b[1;33m\u001b[0m\u001b[0m\n\u001b[0m\u001b[0;32m   1322\u001b[0m             \u001b[1;32mexcept\u001b[0m \u001b[0mConnectionError\u001b[0m\u001b[1;33m:\u001b[0m\u001b[1;33m\u001b[0m\u001b[1;33m\u001b[0m\u001b[0m\n\u001b[0;32m   1323\u001b[0m                 \u001b[0mself\u001b[0m\u001b[1;33m.\u001b[0m\u001b[0mclose\u001b[0m\u001b[1;33m(\u001b[0m\u001b[1;33m)\u001b[0m\u001b[1;33m\u001b[0m\u001b[1;33m\u001b[0m\u001b[0m\n",
      "\u001b[1;32m~\\Anaconda3\\lib\\http\\client.py\u001b[0m in \u001b[0;36mbegin\u001b[1;34m(self)\u001b[0m\n\u001b[0;32m    294\u001b[0m         \u001b[1;31m# read until we get a non-100 response\u001b[0m\u001b[1;33m\u001b[0m\u001b[1;33m\u001b[0m\u001b[1;33m\u001b[0m\u001b[0m\n\u001b[0;32m    295\u001b[0m         \u001b[1;32mwhile\u001b[0m \u001b[1;32mTrue\u001b[0m\u001b[1;33m:\u001b[0m\u001b[1;33m\u001b[0m\u001b[1;33m\u001b[0m\u001b[0m\n\u001b[1;32m--> 296\u001b[1;33m             \u001b[0mversion\u001b[0m\u001b[1;33m,\u001b[0m \u001b[0mstatus\u001b[0m\u001b[1;33m,\u001b[0m \u001b[0mreason\u001b[0m \u001b[1;33m=\u001b[0m \u001b[0mself\u001b[0m\u001b[1;33m.\u001b[0m\u001b[0m_read_status\u001b[0m\u001b[1;33m(\u001b[0m\u001b[1;33m)\u001b[0m\u001b[1;33m\u001b[0m\u001b[1;33m\u001b[0m\u001b[0m\n\u001b[0m\u001b[0;32m    297\u001b[0m             \u001b[1;32mif\u001b[0m \u001b[0mstatus\u001b[0m \u001b[1;33m!=\u001b[0m \u001b[0mCONTINUE\u001b[0m\u001b[1;33m:\u001b[0m\u001b[1;33m\u001b[0m\u001b[1;33m\u001b[0m\u001b[0m\n\u001b[0;32m    298\u001b[0m                 \u001b[1;32mbreak\u001b[0m\u001b[1;33m\u001b[0m\u001b[1;33m\u001b[0m\u001b[0m\n",
      "\u001b[1;32m~\\Anaconda3\\lib\\http\\client.py\u001b[0m in \u001b[0;36m_read_status\u001b[1;34m(self)\u001b[0m\n\u001b[0;32m    255\u001b[0m \u001b[1;33m\u001b[0m\u001b[0m\n\u001b[0;32m    256\u001b[0m     \u001b[1;32mdef\u001b[0m \u001b[0m_read_status\u001b[0m\u001b[1;33m(\u001b[0m\u001b[0mself\u001b[0m\u001b[1;33m)\u001b[0m\u001b[1;33m:\u001b[0m\u001b[1;33m\u001b[0m\u001b[1;33m\u001b[0m\u001b[0m\n\u001b[1;32m--> 257\u001b[1;33m         \u001b[0mline\u001b[0m \u001b[1;33m=\u001b[0m \u001b[0mstr\u001b[0m\u001b[1;33m(\u001b[0m\u001b[0mself\u001b[0m\u001b[1;33m.\u001b[0m\u001b[0mfp\u001b[0m\u001b[1;33m.\u001b[0m\u001b[0mreadline\u001b[0m\u001b[1;33m(\u001b[0m\u001b[0m_MAXLINE\u001b[0m \u001b[1;33m+\u001b[0m \u001b[1;36m1\u001b[0m\u001b[1;33m)\u001b[0m\u001b[1;33m,\u001b[0m \u001b[1;34m\"iso-8859-1\"\u001b[0m\u001b[1;33m)\u001b[0m\u001b[1;33m\u001b[0m\u001b[1;33m\u001b[0m\u001b[0m\n\u001b[0m\u001b[0;32m    258\u001b[0m         \u001b[1;32mif\u001b[0m \u001b[0mlen\u001b[0m\u001b[1;33m(\u001b[0m\u001b[0mline\u001b[0m\u001b[1;33m)\u001b[0m \u001b[1;33m>\u001b[0m \u001b[0m_MAXLINE\u001b[0m\u001b[1;33m:\u001b[0m\u001b[1;33m\u001b[0m\u001b[1;33m\u001b[0m\u001b[0m\n\u001b[0;32m    259\u001b[0m             \u001b[1;32mraise\u001b[0m \u001b[0mLineTooLong\u001b[0m\u001b[1;33m(\u001b[0m\u001b[1;34m\"status line\"\u001b[0m\u001b[1;33m)\u001b[0m\u001b[1;33m\u001b[0m\u001b[1;33m\u001b[0m\u001b[0m\n",
      "\u001b[1;32m~\\Anaconda3\\lib\\socket.py\u001b[0m in \u001b[0;36mreadinto\u001b[1;34m(self, b)\u001b[0m\n\u001b[0;32m    587\u001b[0m         \u001b[1;32mwhile\u001b[0m \u001b[1;32mTrue\u001b[0m\u001b[1;33m:\u001b[0m\u001b[1;33m\u001b[0m\u001b[1;33m\u001b[0m\u001b[0m\n\u001b[0;32m    588\u001b[0m             \u001b[1;32mtry\u001b[0m\u001b[1;33m:\u001b[0m\u001b[1;33m\u001b[0m\u001b[1;33m\u001b[0m\u001b[0m\n\u001b[1;32m--> 589\u001b[1;33m                 \u001b[1;32mreturn\u001b[0m \u001b[0mself\u001b[0m\u001b[1;33m.\u001b[0m\u001b[0m_sock\u001b[0m\u001b[1;33m.\u001b[0m\u001b[0mrecv_into\u001b[0m\u001b[1;33m(\u001b[0m\u001b[0mb\u001b[0m\u001b[1;33m)\u001b[0m\u001b[1;33m\u001b[0m\u001b[1;33m\u001b[0m\u001b[0m\n\u001b[0m\u001b[0;32m    590\u001b[0m             \u001b[1;32mexcept\u001b[0m \u001b[0mtimeout\u001b[0m\u001b[1;33m:\u001b[0m\u001b[1;33m\u001b[0m\u001b[1;33m\u001b[0m\u001b[0m\n\u001b[0;32m    591\u001b[0m                 \u001b[0mself\u001b[0m\u001b[1;33m.\u001b[0m\u001b[0m_timeout_occurred\u001b[0m \u001b[1;33m=\u001b[0m \u001b[1;32mTrue\u001b[0m\u001b[1;33m\u001b[0m\u001b[1;33m\u001b[0m\u001b[0m\n",
      "\u001b[1;31mKeyboardInterrupt\u001b[0m: "
     ]
    }
   ],
   "source": [
    "# 본격적인 크롤링 시작\n",
    "# 핵심 라이브러리는 BeautifulSoup, Selenium \n",
    "# Selenium 가상 브라우저를 사용하는 이유는 댓글의 로딩이 페이지 내용보다 더 느리기 때문\n",
    "from selenium import webdriver\n",
    "from bs4 import BeautifulSoup\n",
    "import time\n",
    "\n",
    "# 크롤링을 위한 준비 단계\n",
    "# 크롬 드라이버 파일 불러오기(크롬이 아닌 다른 브라우저에서는 다른 파일이 요구됨)\n",
    "driver = webdriver.Chrome(executable_path='(driver) chromedriver.exe') \n",
    "comments=[] #댓글들 담을 list\n",
    "\n",
    "# 답댓글 크롤링할 수 있는 코드\n",
    "for url in urls_list:\n",
    "    try:\n",
    "        print(url+' 크롤링 중입니다')\n",
    "        driver.get(url)\n",
    "        time.sleep(3) #댓글 불러오기 대기\n",
    "        \n",
    "        finish_flag = 1 # 댓글 더보기 버튼 클릭 횟수 제한\n",
    "        \n",
    "        while finish_flag == 1: \n",
    "            try:\n",
    "                # 답댓글 열기 버튼의 css_selector 클릭\n",
    "                driver.find_elements_by_css_selector(\"#comment > div > div.reply_wrap > div.alex_more > a\").click()\n",
    "#                 for i in range(len(links)):\n",
    "#                     i.click()\n",
    "                \n",
    "#                 link_more = source.select(\"div > span > button.reply_count\")\n",
    "                driver.find_elements_by_css_selector(\"#comment > div > div > span.box_inner > button\").click()\n",
    "#                 for button in range(len(link_more)):\n",
    "#                     button.click()\n",
    "                \n",
    "            except:\n",
    "                finish_flag = 0 # false일 경우 멈추고 아래 코드로 이동\n",
    "            \n",
    "                    \n",
    "            html = driver.page_source\n",
    "\n",
    "            bs = BeautifulSoup(html, 'html.parser')\n",
    "            contents = bs.find_all(\"p\", {\"class\" : \"desc_txt font_size_17\"}) #댓글 담긴 span tag 찾기\n",
    "            for content in contents :\n",
    "                print(content.text)\n",
    "                comments.append(content.text)\n",
    "\n",
    "    except:\n",
    "        print(\"존재하지 않는 url입니다.\")\n",
    "\n",
    "        \n",
    "\n",
    "# 크롤링 중 같은 페이지가 반복되는 오류 있음. 크롤링이 멈추지 않음. \n",
    "# 답댓글도 크롤링이 안됨.\n",
    "\n",
    "# 댓글 전체와 답댓글을 전부 크롤링하려는 과정에서 코드 문제(전체 댓글 열기-> 답댓글 추려내기 과정이 연결되지 않음)\n"
   ]
  },
  {
   "cell_type": "code",
   "execution_count": 6,
   "metadata": {},
   "outputs": [
    {
     "data": {
      "text/plain": [
       "68"
      ]
     },
     "execution_count": 6,
     "metadata": {},
     "output_type": "execute_result"
    }
   ],
   "source": [
    "len(comments) #댓글 수"
   ]
  },
  {
   "cell_type": "code",
   "execution_count": 8,
   "metadata": {
    "scrolled": true
   },
   "outputs": [
    {
     "data": {
      "text/plain": [
       "'성태야\\n학교가자~~ 멍멍~ 학교나 가자잉 무상급식받으러 성태야 무죄한 최서원 박근혜를 마녀사냥해서 각각 징역 삼십몇년 받게 한 일등공신이 바로 너다. 너도 무죄한 가운데 징역 삼십몇년 받아봐라. 빨갱이들에게 부역한 놈은 그래도 싸다 여당이나 야당이나\\n진보나 보수나\\n자식농사 때문에 골치 썩히는 건\\n매 한 가지구려! 구속 시켜랴 되요 ㅜㅜ\\n제발 그럼 다른 사람 카드로 결제했겠지.\\n무려 8년전에  누가 결제했는지까지 정확하게  기억하기가 쉽나? 그렇다고  그  카드가 무슨 카드였는지까지  기억하기도 쉽지않을끼고 니가 아무리 기레기와 짜고 발버둥쳐도  넌 끝났어 여기 파견으로 근무해본 사람 없나? 파견 근무 경험만 있으면 이 건은 무조건 채용 비리라고 생각할텐데..\\n나 파견으로 1년정도 대기업에서 근무함. 대기업은 파견 쓰는거 좋아하는데, 실제로 파견에서 자체 계약직까지 가는걸 본적 있음. 그러나 이것도 극소수. 정말 100명중 2명 될까 말까했음\\n근데 자체 계약직도 아니고 파견직 끝나고 공채로 정규직 들어갔다고? 그런 능력이 있었다면 처음부터 파견으로 왜 들어 갔나?\\n하여튼 이해 안됨 혼수상태야  너는 입만 벌리면 거짓말하냐.???...누가봐도 니가  딸 청탁했다는것이 인정되는데 너만 아니라고 하면 누가 믿겠냐????? 그만하고 이실직고 후 빵에 들어가서 참회하거라.... 누가 공채원서를 서류로 내냐? 다 인터넷으로 내는데..그것만봐도 특혜지 카드기록 없다고 좋아서 목소리 높이던 김성태 이제 어떡하냐.ㅋㅋ 검찰은 70여곳 압수수색하고 특수부 검사 50명 동원하고 판사에게 소리질러 항의했어야지 뭐하나 카드결재고 뭐고 KT에 입사원서 직접내고 인사담당자한테 코칭받고 입사한 사원은 김성태 딸밖에 없다는 게 중요팩트지 증거가있는데도거짓말하는쑈성태는위증죄도포함해서20년은때려라!!서류도접수안했다는♬~이어떻게회사에다니냐??누굴바보로아는건지.. 일식집 압색해라.\\n그럼 누가 결제 했는지 나오지.\\n그정도는 우리 검찰이 할 수  있지 어찌됐든 부정채용된건 안바뀌잖여!\\n절차 무시하고 채용한건데.\\n일반 사람자녀면 그래 해주겠나!\\n국회의원딸이고 KT 노조위원장출신이니 해줬것지. 이사건도 검찰이 조작질했겠네 조국처럼 하고도 넘치지\\n최순실도  조작질했나  검찰하면  이젠 시기꾼처럼 보이니\\n한심한 윤춘장 2011년 만났다전  일식집  매출카드를  조사해보면  나오겠지. 일식집  카드매출을 조사해봐라.\\n이건 일도 아니게 쉬운거다.\\n검찰에겐  껌씹는거보다 쉬운일. 그때 밥을 같이 안 먹었다고 청탁을 한 적이 없다?\\nㅋㅋㅋㅋㅋㅋㅋ 공수처 설치가자~\\n김성태 깜빵가자~\\n황씨나씨고 같이가자~\\n이것들 조사는 언제하냐?\\n확실히 먼가 다르다는 건\\n나만 그렇게 느끼는 건가? 혼수성태 깜빵가자~ 강효상  곽상도  권성동  김도읍  김석기  김성태  김순례\\n김재원  김정재  김진태  김태흠  김현아  나경원  민경욱 \\n박성중  박순자  백승주  신보라  심재철  안상수  여상규\\n염동열  원유철  유기준  윤상현  이만희  이완영  이우현\\n이은재  이장우  이종구  이채익  장제원  전희경  정갑윤\\n정양석  정용기  정우택  정종섭  정진석  조경태  주광덕\\n주호영  최교일  최연혜  한선교 ......\\n\\n이 망/할 놈의 토왜당 국개\\n절대 용납해선 안됩니다!\\n15/04/2020 총선에서 반드시 척결해야 합니다! 검찰은 자한당을 기소할 마음이 없는거다..오직 조국과 청와대쪽만 목숨걸고 파는중이다. 야 김성태 이 양아치, 아직도 무슨 낯짝으로 살아 있냐? 부끄럽지도 않냐? 조국에 분노해서 집회하고 사퇴 난리쳤던 야 소위 스카이대 애덜, 너희들 김성태에게는 뭐라고 했냐? 김성태는 아주 선량이냐? 네놈들도 수시로 대부분 들어간놈들 아냐? 그게 당시 합법적인 제도였고., 김성태는 국회의원이니까 그것도 당시 여당 국개니까, 그래서 불법도 합법으로 볼 수 밖에 없냐? 너희들은? 힘있는 넘이 뀌는 0방귀는 아주 향기까지 나냐? 김성태나 양아치 스카이 일부 학생넘들이나 머가 다르냐? 자한당이 한 일은 덮자,  민주당만 까자......검찰 지령임 상식적으로 청탁이 없었는데\\n알아서 위법한행위로 \\n취업시켜준다는게 말이되냐.댓가도없이 걍 막 취업시켜줬다고??? 최성해 관련 동양대 교수 녹취록!! 꼭 보세요\\n\\n http://omn.kr/1m1dj\\n\\n\"\\'조국 교수\\' 청탁 시도에까지 나설 정도로 최 총장과 가까운 A교수가 \\'표창장 위조가 말이 안 된다\\'고 한 것은 크게 주목할 만한 증언\"이라면서 \"요즘 재판 과정에서 검찰의 무리한 기소라는 우려가 있었는데, 이번 증언까지 나온 걸 보니 우려가 더 크다\"고 지적했다. 이런새끼는 정치권에서 퇴출시켜야 한다\\n청년들의 꿈을 비겁하게 아빠찬스로 박탈해간 새치기!@#!@ 성태야 그만하고 법대로 죄값 치러라 손바닥으로 하늘을 가려라!! 노조 망신은 개망신?   노조출신  구케의원 뭐 이딴 법이 다있어 조국은 친구며 4촌이며 다싸잡아 털어서 집어 넣고 김학의나 김성태는 왜 무죄라고 이렇게 홍보를 하지. 누가 정치공세인지 모르겠다 에레이 지저분한~~~~~~ 에라이\\n그냥 인정해라 추잡하게시리 카드하나로 진실이 밝혀져?ㅋㅋㅋ 에라이. 정말 뻔뻔하고 악질이다 아무래도 총장을 잘못뽑은것같다 \\n\\n김학의도 그렇고 김성태도 그렇고 \\n\\n계엄령은 손도대지 않고 \\n\\n양심없는 총장질에 이젠 지친다 \\n\\n역사의 준엄한 심판을 받을것이다 정말 쪽팔리고 치사한 성태야\\n죄인정하고 죄값 받아랴\\n니 딸에게 부끄럽지도 않냐?가증스러운x 김성태..... 남의 카드내역은 손에 들고 자랑스럽게 설명을 왜 하냐?  그래서 넌 이석채와 만났고 접대도 받았다 근데 날짜가 다르다는걸 설명하고 싶은거야? \\n너 따위한테 정치활동 판단이 뭐가 필요해~ 어차피 넌 내년엔 아웃인데.... 니 딸이 kt에서 벌어다주면 그걸로 먹고 살면 되지~ 애비 덕에 평생직장 얻었는데~  앞으로 남은 생은 딸 등에 빨대 꽂으면 되지~ ㅎㅎ 국회건달들~~~~총집합//국회해산 답이다\\n자한당은  이제 종말~~~국민명령//비리몸통들/세금낭비 밥을 몇번을 먹은줄 알고 ㅋㅋㅋㅋ 결국  내놓는 증거라는게 밥먹은 카드?? ㅋㅋㅋ 김학의 처럼 검찰이 아무리 수사해봤자 판사가 무죄라고 하면 그냥 무죄가 되는것을 넌 죄값을 받고도 너때메 돌아가신분 때문에 저승가서 지옥문 천벌을 제일 쎈걸로 다시 받어야 한다. 조국 털듯이 하면 별개 다 나올텐데... 성태의원님!\\n손바닥으로\\n하늘을 가리키려고 하십니까?\\n20대임기도 얼마 안남았는데\\n선하게 불고\\n2년살고\\n맘 편하게 사이소~\\n살며는 얼매나 산다꼬\\n발~발~ 떨지말고요!\\n머시마 부랄차고\\n그랄수도 있지요\\n다른 사람도\\n그런식으로 마니 했을껍니다.\\n자식앞에 양심을 버리지는 맙시다~^^ 대한민국 국민 여러분 \\n지금 함 보십시오 \\n우리나라 개검들이 얼마나 악질적이고\\n사악한지을 지금 개검들은 아주아주 \\n더럽게 편파적 수사를 하는지요\\n저렇게 안하무인 개검들이 지금도 자한당 집단들 짜고 치는 수사를 하고 있습니다 별 웃긴놈을 다보네\\n예를 들어, \"홍길동식당\"의 음식이 맛있어서 몇번 갔다고 치자.\\n홍길동식당 결제내역이 2009년에 있으면 그 때 딱 한번이고 다시는 홍길동식당에 가지 않는다는게 상식이냐?\\n어디서 약을 팔어?!! 어지간히 해라.\\n자식들한테 부끄럽지도 않냐\\n당신같은 사람은 두번다시 국회에 발을 못붙히게 해야돼 김성태 한국노총 출신이 지금 자유한국당 의원되서 기껏 하는 정치가 \\n지 딸 불법채용 관련 수사나 받고 있냐?\\n\\n차라리 삼성전자 백혈병 피해자 구호활동이나 했으면 \\n지금쯤 국민들로 부터 어마어마한 응원 받을 텐데\\n\\n돈 몇푼에 한국노총이라는 출신이 부끄럽다\\n\\nfeat. 김문수도 노조출신이지 도루코 둘이 끼리끼리 노는구나 요즘 검찰의 행태를 보면 당신도 피해자일 수도 있다는 의심이 들어야 하는데.... ㅋㅋㅋ 이런 개 시장잡배에게 \\n\\n분노를 느껴야한다 \\n\\n지성인 대 서울대인들아.!! \\n\\n같이 개가될래?? 성태는 지금 억울하다.\\n\\n나갱원도 수사안하고 교활이도 수사안하는데\\n왜 나만 가지고 수사하냐 라면서 내심 억울해서 저런다. 노회찬 의원님을 살해한 살인마 김성태를 감옥으로 보내라 서울대생들은 왜  김성태 권성동에 대해서는 집회를 안 하는가? 성태야.\\n너도 영철이 따라 의원직 상실이다.\\n내년 총선 전에 이루어져야 할 텐데 말이지?? 에라이 드런 새끼야. 그만 노회찬 만나러 가야지? 신뢰도 0인 자격 미달 정치인중의 하나.  잘하는 것? 소리치고 윽박 지르는 것. 추한 인간 그거짓만큼 진실해봐라\\n절대 손으로 하늘을 가릴수 없다.\\n하늘이 알고 니 양심이 알거다.\\n악어의 눈물일랑 더이상 보이지말어라. 성태야 어지간히 좀 해라~뜨발늠아\\n면상 턱주가리 발로차기전에 그래놓고 뭔 생각으로 염치도없이 씨부리고 다니는지...\\n자한당 스럽다 돈을 얼마나 처먹고 병보석으로 석방하는 거냐\\n병보석 제도 없애라 사법범죄는 변호사에 돈만 주면 \\n판검변의 커넥션으로 석방에서 무죄까지 \\n이뤄지는 사법제도 때문이다  \\n\\n공수처에 판검변의 감청허용법안도 포함시켜라 김성태 전에는 좋게 봤는데 실망입니다 \\n이런 치부가 있으니 바른미래에서 자한당으로 끌려가 \\n개처럼 이요만 당하다 버림받는 겁니다\\n무자식이 상팔자라고 만남의 시점이 중요 한게 아니라.\\n\\n니 가  국개의원으로써  \\n니  새 끼를  위해  \\n부정  청탁해서  kT에  입사  시켰다는  것이 팩트다.\\n\\n그리고  니 딸 년은  인 성도  더럽다는데  입사 했다는 \\n것이  더  추악  스럽고 .\\n\\n너 지금  행동  보니  니  ♪♪   인성을 알거 같다.\\n\\n죄를 지었으면  잘못을  뉘우쳐야  할 놈이 \\n\\n뭘  잘  했다고  아가릴   놀리고  어휴 \\n\\n진짜   밟아   쥑이고  싶다.\\n\\n도대체    판검새  놈들은   이  새 키  구속  안시키는  이유가 뭐야?\\n\\n한 심한  쓰 레기 김성태는 왜 처벌안하는 거야? 채용비리보다\\n표창장이중요하나?\\n허참\\n말세네 어버버김씨...정말 인간말종이네... 김성태      차기대통령후보  안되면   단식투쟁 자한당이 글치머'"
      ]
     },
     "execution_count": 8,
     "metadata": {},
     "output_type": "execute_result"
    }
   ],
   "source": [
    "comments_str=\" \".join(comments) #댓글 string으로 변환\n",
    "\n",
    "comments_str"
   ]
  },
  {
   "cell_type": "code",
   "execution_count": null,
   "metadata": {},
   "outputs": [],
   "source": [
    "# comments_str 저장\n",
    "save=open(\"daum_comments.txt\", 'w' , encoding='utf-8' )\n",
    "save.write(comments_str)\n",
    "save.close()"
   ]
  },
  {
   "cell_type": "code",
   "execution_count": null,
   "metadata": {},
   "outputs": [],
   "source": [
    "# 댓글 텍스트가 담긴 파일 불러오기\n",
    "with open('daum_comments.txt', 'r', encoding= 'utf-8') as f: \n",
    "    doc = ''  # 리뷰 데이터를 담기 위한 String 변수 생성\n",
    "    lines = f.readlines()  # 영화 리뷰 파일의 모든 라인을 읽어와 리스트로 저장\n",
    "    for line in lines:  # for문을 통해 lines에 있는 모든 텍스트를 doc2에 이어 붙임\n",
    "        doc += line"
   ]
  },
  {
   "cell_type": "code",
   "execution_count": null,
   "metadata": {},
   "outputs": [],
   "source": [
    "# 문서 내용 확인\n",
    "doc"
   ]
  },
  {
   "cell_type": "code",
   "execution_count": null,
   "metadata": {},
   "outputs": [],
   "source": [
    "# 라이브러리 불러오기\n",
    "from collections import Counter\n",
    "from konlpy.tag import Twitter\n",
    "\n",
    "# articles = df['Article'].tolist()\n",
    "# articles = ''.join(articles)\n",
    "\n",
    "twitter = Twitter()\n",
    "raw_pos_tagged = twitter.pos(doc, norm=True, stem=True)\n",
    "\n",
    "raw_pos_tagged"
   ]
  },
  {
   "cell_type": "code",
   "execution_count": null,
   "metadata": {},
   "outputs": [],
   "source": [
    "# 댓글 문장 필터링 테스트\n",
    "test_str='완전 위해 절대 그게 아무'\n",
    "test=twitter.pos(test_str, norm=True, stem=True)\n",
    "print(test)"
   ]
  },
  {
   "cell_type": "code",
   "execution_count": null,
   "metadata": {},
   "outputs": [],
   "source": [
    "# 필요없는 동사 & 속어 & 부사 제거 \n",
    "\n",
    "del_list = ['하다', '있다', '되다', '이다', '돼다', '않다', '그렇다', '아니다', '이렇다', '그렇다','어떻다','ㅋㅋ','ㅋㅋㅋ','ㅠㅠ','ㅉㅉ','ㅎㅎ','없다','위해','완전','절대','그게','아무','건가','나다','모두','이미'] \n",
    "word_cleaned = []\n",
    "for word in raw_pos_tagged:\n",
    "    if not word[1] in [\"Josa\", \"Eomi\", \"Punctuation\", \"Foreign\",\"Adverb\",\"Suffix\"]: # Foreign == ”, “ 와 같이 제외되어야할 항목들\n",
    "        if (len(word[0]) != 1) & (word[0] not in del_list): # 한 글자로 이뤄진 단어들을 제외 & 원치 않는 단어들을 제외\n",
    "            if(word[0].isalpha()): #숫자 뺌\n",
    "                word_cleaned.append(word[0])\n",
    "\n",
    "# 필터링한 댓글 텍스트 단어 카운트\n",
    "word_counted = Counter(word_cleaned)\n",
    "# 자료형을 dict로 변경\n",
    "word_dic = dict(word_counted)\n",
    "        \n",
    "sorted_word_dic = sorted(word_dic.items(), key=lambda x:x[1], reverse=True)\n",
    "\n",
    "sorted_word_dic"
   ]
  },
  {
   "cell_type": "code",
   "execution_count": null,
   "metadata": {},
   "outputs": [],
   "source": [
    "# 빈도 순으로 상위 100개에 해당하는 단어까지만 추려내어 번역을 진행 (늘릴 수 있습니다.)\n",
    "\n",
    "translation_target = sorted_word_dic[:100] \n",
    "translation_target[-1] # 상위 100번째에 해당하는 단어의 빈도수를 확인"
   ]
  },
  {
   "cell_type": "code",
   "execution_count": null,
   "metadata": {},
   "outputs": [],
   "source": [
    "translation_target = {}\n",
    "for item in word_dic: #item에 키값 들어감\n",
    "    if word_dic[item] >= 31: # 위에서 확인한 빈도수를 기반으로 번역 대상 단어 선정\n",
    "        translation_target[item] = word_dic[item]"
   ]
  },
  {
   "cell_type": "code",
   "execution_count": null,
   "metadata": {},
   "outputs": [],
   "source": [
    "print(translation_target)"
   ]
  },
  {
   "cell_type": "code",
   "execution_count": null,
   "metadata": {},
   "outputs": [],
   "source": [
    "#워드 클라우드로 시각화\n",
    "# 라이브러리 불러오기\n",
    "from wordcloud import WordCloud\n",
    "import matplotlib.pyplot as plt\n",
    "from PIL import Image # 만약 \"No module named 'PIL'\" 에러가 발생하면 [ pip install Pillow==5.4.1 ] 로 라이브러리를 설치\n",
    "\n",
    "import numpy as np\n",
    "import matplotlib.pyplot as plt\n",
    "%matplotlib inline"
   ]
  },
  {
   "cell_type": "code",
   "execution_count": null,
   "metadata": {},
   "outputs": [],
   "source": [
    "# WordCloud 객체를 생성\n",
    "# 아래 보이는 코드의 font_path 에 해당하는 부분이 워드클라우드의 폰트에 적용됩니다. (대체로 고딕 계열 폰트가 이쁘게 나옵니다)\n",
    "# 만약 다른 폰트를 적용하려면, C > Windows > Fonts 폴더에 원하시는 폰트 파일(.ttf)을 넣은 후 아래 코드에서 font 이름을 수정해줍니다.\n",
    "\n",
    "# word_cloud = WordCloud().generate(text) : dict 가 아닌 줄글 텍스트 원문으로부터 워드클라우드를 만들 수 있습니다.\n",
    "# word_cloud = WordCloud(font_path=\"fonts/malgun.ttf\", # font_path=\"C:/Windows/Fonts/NanumSquareB.ttf\"\n",
    "#                        width=2000, height=1000, # 이 부분을 수정하시면 실제 워드클라우드의 크기가 바뀝니다 (해상도가 바뀝니다)\n",
    "#                        # prefer_horizontal= 1.0, # 이 부분의 주석을 해제하시면 단어들이 가로로만 그려지게 됩니다. (0~1)\n",
    "#                        background_color='white')"
   ]
  },
  {
   "cell_type": "code",
   "execution_count": null,
   "metadata": {},
   "outputs": [],
   "source": [
    "# word_cloud.generate_from_frequencies(word_dic) # Generate wordcloud from word \"frequency\" data."
   ]
  },
  {
   "cell_type": "code",
   "execution_count": null,
   "metadata": {},
   "outputs": [],
   "source": [
    "# # 생성한 WordCloud 객체로부터 워드클라우드를 보여주는 코드입니다.\n",
    "\n",
    "# plt.figure(figsize=(15,15)) # 이 부분을 수정하시면 화면에서 보여지는 워드클라우드의 크기가 바뀝니다 \n",
    "# plt.imshow(word_cloud) # image show\n",
    "# plt.axis(\"off\")\n",
    "# plt.tight_layout(pad=0)\n",
    "# plt.show()"
   ]
  },
  {
   "cell_type": "code",
   "execution_count": null,
   "metadata": {},
   "outputs": [],
   "source": [
    "# word_cloud.to_file(\"word_cloud.png\")"
   ]
  },
  {
   "cell_type": "code",
   "execution_count": null,
   "metadata": {
    "scrolled": false
   },
   "outputs": [],
   "source": [
    "from wordcloud import ImageColorGenerator # Image 로부터 Color 를 생성(Generate)해내는 객체\n",
    "\n",
    "coloring = np.array(Image.open(\"./yellow-house.png\"))\n",
    "image_colors = ImageColorGenerator(coloring)\n",
    "\n",
    "word_cloud = WordCloud(font_path=\"fonts/malgun.ttf\", # font_path=\"C:/Windows/Fonts/NanumSquareB.ttf\"\n",
    "                       width=2000, height=1000,  \n",
    "                       mask=coloring, \n",
    "                       background_color='white').generate_from_frequencies(word_dic)\n",
    "\n",
    "plt.figure(figsize=(15,15))\n",
    "plt.imshow(word_cloud.recolor(color_func=image_colors), interpolation='bilinear') # 다시(re) 색칠하기\n",
    "# plt.imshow(word_cloud.?(colormap='Blues'), interpolation='bilinear') # Matplotlib colormap 활용 (http://j.mp/32UXOQ6)\n",
    "plt.axis(\"off\")\n",
    "plt.tight_layout(pad=0)\n",
    "plt.show()"
   ]
  },
  {
   "cell_type": "code",
   "execution_count": null,
   "metadata": {},
   "outputs": [],
   "source": [
    "word_cloud.to_file(\"daum_word_cloud_coloring.png\")"
   ]
  },
  {
   "cell_type": "code",
   "execution_count": null,
   "metadata": {},
   "outputs": [],
   "source": [
    "coloring = np.array(Image.open(\"./yellow-house.png\"))\n",
    "image_colors = ImageColorGenerator(coloring)\n",
    "\n",
    "word_cloud = WordCloud(font_path=\"fonts/malgun.ttf\", # font_path=\"C:/Windows/Fonts/NanumSquareB.ttf\"\n",
    "                       width=2000, height=1000,  \n",
    "                       mask=coloring, \n",
    "                       background_color='white').generate(doc)\n",
    "\n",
    "plt.figure(figsize=(15,15)) # 이 부분을 수정하면 화면에서 보여지는 워드클라우드의 크기 조절 가능  \n",
    "plt.imshow(word_cloud) # image show\n",
    "plt.axis(\"off\")\n",
    "plt.tight_layout(pad=0)\n",
    "plt.show()"
   ]
  },
  {
   "cell_type": "code",
   "execution_count": null,
   "metadata": {},
   "outputs": [],
   "source": []
  }
 ],
 "metadata": {
  "kernelspec": {
   "display_name": "Python 3",
   "language": "python",
   "name": "python3"
  },
  "language_info": {
   "codemirror_mode": {
    "name": "ipython",
    "version": 3
   },
   "file_extension": ".py",
   "mimetype": "text/x-python",
   "name": "python",
   "nbconvert_exporter": "python",
   "pygments_lexer": "ipython3",
   "version": "3.7.3"
  }
 },
 "nbformat": 4,
 "nbformat_minor": 2
}

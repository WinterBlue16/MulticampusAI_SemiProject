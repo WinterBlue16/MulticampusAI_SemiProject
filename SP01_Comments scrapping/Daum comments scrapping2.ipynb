{
 "cells": [
  {
   "cell_type": "code",
   "execution_count": 1,
   "metadata": {},
   "outputs": [],
   "source": [
    "import requests \n",
    "from bs4 import BeautifulSoup\n",
    "\n",
    "import pandas as pd\n",
    "from datetime import datetime\n",
    "import time\n",
    "import re"
   ]
  },
  {
   "cell_type": "code",
   "execution_count": 2,
   "metadata": {},
   "outputs": [],
   "source": [
    "query = '서유열'\n",
    "url = 'https://search.daum.net/search?w=news&q='+query \n",
    "\n",
    "urls_list = [] #기사 url 담을 list"
   ]
  },
  {
   "cell_type": "code",
   "execution_count": 3,
   "metadata": {
    "scrolled": true
   },
   "outputs": [
    {
     "name": "stdout",
     "output_type": "stream",
     "text": [
      "0\n",
      "1\n",
      "2\n",
      "3\n",
      "4\n",
      "5\n",
      "6\n",
      "7\n",
      "8\n",
      "9\n",
      "['http://v.media.daum.net/v/20191223103054419', '?w=news&req=tab&q=%EC%84%9C%EC%9C%A0%EC%97%B4&viewio=i&repno=0&n=10&p=1&related_page=1&cluster_docid=26XBvgLSOWf_CCJal6', 'http://v.media.daum.net/v/20191220060311094', 'http://v.media.daum.net/v/20191220164805947', 'http://v.media.daum.net/v/20191122143218582', 'http://v.media.daum.net/v/20191122143234590', 'http://v.media.daum.net/v/20191122143233589', 'http://v.media.daum.net/v/20191122163709964', '?w=news&req=tab&q=%EC%84%9C%EC%9C%A0%EC%97%B4&viewio=i&repno=0&n=10&p=1&related_page=1&cluster_docid=26cE5Ah4HU6FZGXetM', 'http://v.media.daum.net/v/20191122173603808', 'http://v.media.daum.net/v/20191122154027953', 'http://v.media.daum.net/v/20191101100331489', 'http://v.media.daum.net/v/20191010113137033', 'http://v.media.daum.net/v/20191010131801794', 'http://v.media.daum.net/v/20191010154625605', '?w=news&req=tab&q=%EC%84%9C%EC%9C%A0%EC%97%B4&viewio=i&repno=0&n=10&p=1&related_page=1&cluster_docid=26doS71xahy2P7Btlz', 'http://v.media.daum.net/v/20191223103054419', '?w=news&req=tab&q=%EC%84%9C%EC%9C%A0%EC%97%B4&viewio=i&repno=0&n=10&p=1&related_page=1&cluster_docid=26XBvgLSOWf_CCJal6', 'http://v.media.daum.net/v/20191220060311094', 'http://v.media.daum.net/v/20191220164805947', 'http://v.media.daum.net/v/20191122143218582', 'http://v.media.daum.net/v/20191122143234590', 'http://v.media.daum.net/v/20191122143233589', 'http://v.media.daum.net/v/20191122163709964', '?w=news&req=tab&q=%EC%84%9C%EC%9C%A0%EC%97%B4&viewio=i&repno=0&n=10&p=1&related_page=1&cluster_docid=26cE5Ah4HU6FZGXetM', 'http://v.media.daum.net/v/20191122173603808', 'http://v.media.daum.net/v/20191122154027953', 'http://v.media.daum.net/v/20191101100331489', 'http://v.media.daum.net/v/20191010113137033', 'http://v.media.daum.net/v/20191010131801794', 'http://v.media.daum.net/v/20191010154625605', '?w=news&req=tab&q=%EC%84%9C%EC%9C%A0%EC%97%B4&viewio=i&repno=0&n=10&p=1&related_page=1&cluster_docid=26doS71xahy2P7Btlz', 'http://v.media.daum.net/v/20191223103054419', '?w=news&req=tab&q=%EC%84%9C%EC%9C%A0%EC%97%B4&viewio=i&repno=0&n=10&p=1&related_page=1&cluster_docid=26XBvgLSOWf_CCJal6', 'http://v.media.daum.net/v/20191220060311094', 'http://v.media.daum.net/v/20191220164805947', 'http://v.media.daum.net/v/20191122143218582', 'http://v.media.daum.net/v/20191122143234590', 'http://v.media.daum.net/v/20191122143233589', 'http://v.media.daum.net/v/20191122163709964', '?w=news&req=tab&q=%EC%84%9C%EC%9C%A0%EC%97%B4&viewio=i&repno=0&n=10&p=1&related_page=1&cluster_docid=26cE5Ah4HU6FZGXetM', 'http://v.media.daum.net/v/20191122173603808', 'http://v.media.daum.net/v/20191122154027953', 'http://v.media.daum.net/v/20191101100331489', 'http://v.media.daum.net/v/20191010113137033', 'http://v.media.daum.net/v/20191010131801794', 'http://v.media.daum.net/v/20191010154625605', '?w=news&req=tab&q=%EC%84%9C%EC%9C%A0%EC%97%B4&viewio=i&repno=0&n=10&p=1&related_page=1&cluster_docid=26doS71xahy2P7Btlz', 'http://v.media.daum.net/v/20191223103054419', '?w=news&req=tab&q=%EC%84%9C%EC%9C%A0%EC%97%B4&viewio=i&repno=0&n=10&p=1&related_page=1&cluster_docid=26XBvgLSOWf_CCJal6', 'http://v.media.daum.net/v/20191220060311094', 'http://v.media.daum.net/v/20191220164805947', 'http://v.media.daum.net/v/20191122143218582', 'http://v.media.daum.net/v/20191122143234590', 'http://v.media.daum.net/v/20191122143233589', 'http://v.media.daum.net/v/20191122163709964', '?w=news&req=tab&q=%EC%84%9C%EC%9C%A0%EC%97%B4&viewio=i&repno=0&n=10&p=1&related_page=1&cluster_docid=26cE5Ah4HU6FZGXetM', 'http://v.media.daum.net/v/20191122173603808', 'http://v.media.daum.net/v/20191122154027953', 'http://v.media.daum.net/v/20191101100331489', 'http://v.media.daum.net/v/20191010113137033', 'http://v.media.daum.net/v/20191010131801794', 'http://v.media.daum.net/v/20191010154625605', '?w=news&req=tab&q=%EC%84%9C%EC%9C%A0%EC%97%B4&viewio=i&repno=0&n=10&p=1&related_page=1&cluster_docid=26doS71xahy2P7Btlz', 'http://v.media.daum.net/v/20191223103054419', '?w=news&req=tab&q=%EC%84%9C%EC%9C%A0%EC%97%B4&viewio=i&repno=0&n=10&p=1&related_page=1&cluster_docid=26XBvgLSOWf_CCJal6', 'http://v.media.daum.net/v/20191220060311094', 'http://v.media.daum.net/v/20191220164805947', 'http://v.media.daum.net/v/20191122143218582', 'http://v.media.daum.net/v/20191122143234590', 'http://v.media.daum.net/v/20191122143233589', 'http://v.media.daum.net/v/20191122163709964', '?w=news&req=tab&q=%EC%84%9C%EC%9C%A0%EC%97%B4&viewio=i&repno=0&n=10&p=1&related_page=1&cluster_docid=26cE5Ah4HU6FZGXetM', 'http://v.media.daum.net/v/20191122173603808', 'http://v.media.daum.net/v/20191122154027953', 'http://v.media.daum.net/v/20191101100331489', 'http://v.media.daum.net/v/20191010113137033', 'http://v.media.daum.net/v/20191010131801794', 'http://v.media.daum.net/v/20191010154625605', '?w=news&req=tab&q=%EC%84%9C%EC%9C%A0%EC%97%B4&viewio=i&repno=0&n=10&p=1&related_page=1&cluster_docid=26doS71xahy2P7Btlz', 'http://v.media.daum.net/v/20191223103054419', '?w=news&req=tab&q=%EC%84%9C%EC%9C%A0%EC%97%B4&viewio=i&repno=0&n=10&p=1&related_page=1&cluster_docid=26XBvgLSOWf_CCJal6', 'http://v.media.daum.net/v/20191220060311094', 'http://v.media.daum.net/v/20191220164805947', 'http://v.media.daum.net/v/20191122143218582', 'http://v.media.daum.net/v/20191122143234590', 'http://v.media.daum.net/v/20191122143233589', 'http://v.media.daum.net/v/20191122163709964', '?w=news&req=tab&q=%EC%84%9C%EC%9C%A0%EC%97%B4&viewio=i&repno=0&n=10&p=1&related_page=1&cluster_docid=26cE5Ah4HU6FZGXetM', 'http://v.media.daum.net/v/20191122173603808', 'http://v.media.daum.net/v/20191122154027953', 'http://v.media.daum.net/v/20191101100331489', 'http://v.media.daum.net/v/20191010113137033', 'http://v.media.daum.net/v/20191010131801794', 'http://v.media.daum.net/v/20191010154625605', '?w=news&req=tab&q=%EC%84%9C%EC%9C%A0%EC%97%B4&viewio=i&repno=0&n=10&p=1&related_page=1&cluster_docid=26doS71xahy2P7Btlz', 'http://v.media.daum.net/v/20191223103054419', '?w=news&req=tab&q=%EC%84%9C%EC%9C%A0%EC%97%B4&viewio=i&repno=0&n=10&p=1&related_page=1&cluster_docid=26XBvgLSOWf_CCJal6', 'http://v.media.daum.net/v/20191220060311094', 'http://v.media.daum.net/v/20191220164805947', 'http://v.media.daum.net/v/20191122143218582', 'http://v.media.daum.net/v/20191122143234590', 'http://v.media.daum.net/v/20191122143233589', 'http://v.media.daum.net/v/20191122163709964', '?w=news&req=tab&q=%EC%84%9C%EC%9C%A0%EC%97%B4&viewio=i&repno=0&n=10&p=1&related_page=1&cluster_docid=26cE5Ah4HU6FZGXetM', 'http://v.media.daum.net/v/20191122173603808', 'http://v.media.daum.net/v/20191122154027953', 'http://v.media.daum.net/v/20191101100331489', 'http://v.media.daum.net/v/20191010113137033', 'http://v.media.daum.net/v/20191010131801794', 'http://v.media.daum.net/v/20191010154625605', '?w=news&req=tab&q=%EC%84%9C%EC%9C%A0%EC%97%B4&viewio=i&repno=0&n=10&p=1&related_page=1&cluster_docid=26doS71xahy2P7Btlz', 'http://v.media.daum.net/v/20191223103054419', '?w=news&req=tab&q=%EC%84%9C%EC%9C%A0%EC%97%B4&viewio=i&repno=0&n=10&p=1&related_page=1&cluster_docid=26XBvgLSOWf_CCJal6', 'http://v.media.daum.net/v/20191220060311094', 'http://v.media.daum.net/v/20191220164805947', 'http://v.media.daum.net/v/20191122143218582', 'http://v.media.daum.net/v/20191122143234590', 'http://v.media.daum.net/v/20191122143233589', 'http://v.media.daum.net/v/20191122163709964', '?w=news&req=tab&q=%EC%84%9C%EC%9C%A0%EC%97%B4&viewio=i&repno=0&n=10&p=1&related_page=1&cluster_docid=26cE5Ah4HU6FZGXetM', 'http://v.media.daum.net/v/20191122173603808', 'http://v.media.daum.net/v/20191122154027953', 'http://v.media.daum.net/v/20191101100331489', 'http://v.media.daum.net/v/20191010113137033', 'http://v.media.daum.net/v/20191010131801794', 'http://v.media.daum.net/v/20191010154625605', '?w=news&req=tab&q=%EC%84%9C%EC%9C%A0%EC%97%B4&viewio=i&repno=0&n=10&p=1&related_page=1&cluster_docid=26doS71xahy2P7Btlz', 'http://v.media.daum.net/v/20191223103054419', '?w=news&req=tab&q=%EC%84%9C%EC%9C%A0%EC%97%B4&viewio=i&repno=0&n=10&p=1&related_page=1&cluster_docid=26XBvgLSOWf_CCJal6', 'http://v.media.daum.net/v/20191220060311094', 'http://v.media.daum.net/v/20191220164805947', 'http://v.media.daum.net/v/20191122143218582', 'http://v.media.daum.net/v/20191122143234590', 'http://v.media.daum.net/v/20191122143233589', 'http://v.media.daum.net/v/20191122163709964', '?w=news&req=tab&q=%EC%84%9C%EC%9C%A0%EC%97%B4&viewio=i&repno=0&n=10&p=1&related_page=1&cluster_docid=26cE5Ah4HU6FZGXetM', 'http://v.media.daum.net/v/20191122173603808', 'http://v.media.daum.net/v/20191122154027953', 'http://v.media.daum.net/v/20191101100331489', 'http://v.media.daum.net/v/20191010113137033', 'http://v.media.daum.net/v/20191010131801794', 'http://v.media.daum.net/v/20191010154625605', '?w=news&req=tab&q=%EC%84%9C%EC%9C%A0%EC%97%B4&viewio=i&repno=0&n=10&p=1&related_page=1&cluster_docid=26doS71xahy2P7Btlz', 'http://v.media.daum.net/v/20191223103054419', '?w=news&req=tab&q=%EC%84%9C%EC%9C%A0%EC%97%B4&viewio=i&repno=0&n=10&p=1&related_page=1&cluster_docid=26XBvgLSOWf_CCJal6', 'http://v.media.daum.net/v/20191220060311094', 'http://v.media.daum.net/v/20191220164805947', 'http://v.media.daum.net/v/20191122143218582', 'http://v.media.daum.net/v/20191122143234590', 'http://v.media.daum.net/v/20191122143233589', 'http://v.media.daum.net/v/20191122163709964', '?w=news&req=tab&q=%EC%84%9C%EC%9C%A0%EC%97%B4&viewio=i&repno=0&n=10&p=1&related_page=1&cluster_docid=26cE5Ah4HU6FZGXetM', 'http://v.media.daum.net/v/20191122173603808', 'http://v.media.daum.net/v/20191122154027953', 'http://v.media.daum.net/v/20191101100331489', 'http://v.media.daum.net/v/20191010113137033', 'http://v.media.daum.net/v/20191010131801794', 'http://v.media.daum.net/v/20191010154625605', '?w=news&req=tab&q=%EC%84%9C%EC%9C%A0%EC%97%B4&viewio=i&repno=0&n=10&p=1&related_page=1&cluster_docid=26doS71xahy2P7Btlz']\n"
     ]
    }
   ],
   "source": [
    "for i in range(10): \n",
    "    print (i)\n",
    "    url=url+\"&p=\"+str(i)\n",
    "\n",
    "    web = requests.get(url).content\n",
    "    source = BeautifulSoup(web, 'html.parser')\n",
    "\n",
    "    for urls in source.find_all('a', {'class' : \"f_nb\"}):\n",
    "        urls_list.append(urls[\"href\"])\n",
    "\n",
    "print(urls_list)\n",
    "# urls_list[0]"
   ]
  },
  {
   "cell_type": "code",
   "execution_count": 4,
   "metadata": {},
   "outputs": [
    {
     "name": "stdout",
     "output_type": "stream",
     "text": [
      "160\n"
     ]
    }
   ],
   "source": [
    "print(len(urls_list))"
   ]
  },
  {
   "cell_type": "code",
   "execution_count": 8,
   "metadata": {
    "scrolled": true
   },
   "outputs": [
    {
     "ename": "WebDriverException",
     "evalue": "Message: 'chromedriver' executable needs to be in PATH. Please see https://sites.google.com/a/chromium.org/chromedriver/home\n",
     "output_type": "error",
     "traceback": [
      "\u001b[1;31m---------------------------------------------------------------------------\u001b[0m",
      "\u001b[1;31mFileNotFoundError\u001b[0m                         Traceback (most recent call last)",
      "\u001b[1;32m~\\Anaconda3\\lib\\site-packages\\selenium\\webdriver\\common\\service.py\u001b[0m in \u001b[0;36mstart\u001b[1;34m(self)\u001b[0m\n\u001b[0;32m     75\u001b[0m                                             \u001b[0mstderr\u001b[0m\u001b[1;33m=\u001b[0m\u001b[0mself\u001b[0m\u001b[1;33m.\u001b[0m\u001b[0mlog_file\u001b[0m\u001b[1;33m,\u001b[0m\u001b[1;33m\u001b[0m\u001b[1;33m\u001b[0m\u001b[0m\n\u001b[1;32m---> 76\u001b[1;33m                                             stdin=PIPE)\n\u001b[0m\u001b[0;32m     77\u001b[0m         \u001b[1;32mexcept\u001b[0m \u001b[0mTypeError\u001b[0m\u001b[1;33m:\u001b[0m\u001b[1;33m\u001b[0m\u001b[1;33m\u001b[0m\u001b[0m\n",
      "\u001b[1;32m~\\Anaconda3\\lib\\subprocess.py\u001b[0m in \u001b[0;36m__init__\u001b[1;34m(self, args, bufsize, executable, stdin, stdout, stderr, preexec_fn, close_fds, shell, cwd, env, universal_newlines, startupinfo, creationflags, restore_signals, start_new_session, pass_fds, encoding, errors, text)\u001b[0m\n\u001b[0;32m    774\u001b[0m                                 \u001b[0merrread\u001b[0m\u001b[1;33m,\u001b[0m \u001b[0merrwrite\u001b[0m\u001b[1;33m,\u001b[0m\u001b[1;33m\u001b[0m\u001b[1;33m\u001b[0m\u001b[0m\n\u001b[1;32m--> 775\u001b[1;33m                                 restore_signals, start_new_session)\n\u001b[0m\u001b[0;32m    776\u001b[0m         \u001b[1;32mexcept\u001b[0m\u001b[1;33m:\u001b[0m\u001b[1;33m\u001b[0m\u001b[1;33m\u001b[0m\u001b[0m\n",
      "\u001b[1;32m~\\Anaconda3\\lib\\subprocess.py\u001b[0m in \u001b[0;36m_execute_child\u001b[1;34m(self, args, executable, preexec_fn, close_fds, pass_fds, cwd, env, startupinfo, creationflags, shell, p2cread, p2cwrite, c2pread, c2pwrite, errread, errwrite, unused_restore_signals, unused_start_new_session)\u001b[0m\n\u001b[0;32m   1177\u001b[0m                                          \u001b[0mos\u001b[0m\u001b[1;33m.\u001b[0m\u001b[0mfspath\u001b[0m\u001b[1;33m(\u001b[0m\u001b[0mcwd\u001b[0m\u001b[1;33m)\u001b[0m \u001b[1;32mif\u001b[0m \u001b[0mcwd\u001b[0m \u001b[1;32mis\u001b[0m \u001b[1;32mnot\u001b[0m \u001b[1;32mNone\u001b[0m \u001b[1;32melse\u001b[0m \u001b[1;32mNone\u001b[0m\u001b[1;33m,\u001b[0m\u001b[1;33m\u001b[0m\u001b[1;33m\u001b[0m\u001b[0m\n\u001b[1;32m-> 1178\u001b[1;33m                                          startupinfo)\n\u001b[0m\u001b[0;32m   1179\u001b[0m             \u001b[1;32mfinally\u001b[0m\u001b[1;33m:\u001b[0m\u001b[1;33m\u001b[0m\u001b[1;33m\u001b[0m\u001b[0m\n",
      "\u001b[1;31mFileNotFoundError\u001b[0m: [WinError 2] 지정된 파일을 찾을 수 없습니다",
      "\nDuring handling of the above exception, another exception occurred:\n",
      "\u001b[1;31mWebDriverException\u001b[0m                        Traceback (most recent call last)",
      "\u001b[1;32m<ipython-input-8-5fab975353a7>\u001b[0m in \u001b[0;36m<module>\u001b[1;34m\u001b[0m\n\u001b[0;32m      4\u001b[0m \u001b[1;33m\u001b[0m\u001b[0m\n\u001b[0;32m      5\u001b[0m \u001b[1;33m\u001b[0m\u001b[0m\n\u001b[1;32m----> 6\u001b[1;33m \u001b[0mdriver\u001b[0m \u001b[1;33m=\u001b[0m \u001b[0mwebdriver\u001b[0m\u001b[1;33m.\u001b[0m\u001b[0mChrome\u001b[0m\u001b[1;33m(\u001b[0m\u001b[1;34m'./chromedriver'\u001b[0m\u001b[1;33m)\u001b[0m\u001b[1;33m\u001b[0m\u001b[1;33m\u001b[0m\u001b[0m\n\u001b[0m\u001b[0;32m      7\u001b[0m \u001b[0mcomments\u001b[0m\u001b[1;33m=\u001b[0m\u001b[1;33m[\u001b[0m\u001b[1;33m]\u001b[0m \u001b[1;31m#댓글들 담을 list\u001b[0m\u001b[1;33m\u001b[0m\u001b[1;33m\u001b[0m\u001b[0m\n\u001b[0;32m      8\u001b[0m \u001b[1;32mfor\u001b[0m \u001b[0murl\u001b[0m \u001b[1;32min\u001b[0m \u001b[0murls_list\u001b[0m\u001b[1;33m:\u001b[0m\u001b[1;33m\u001b[0m\u001b[1;33m\u001b[0m\u001b[0m\n",
      "\u001b[1;32m~\\Anaconda3\\lib\\site-packages\\selenium\\webdriver\\chrome\\webdriver.py\u001b[0m in \u001b[0;36m__init__\u001b[1;34m(self, executable_path, port, options, service_args, desired_capabilities, service_log_path, chrome_options)\u001b[0m\n\u001b[0;32m     66\u001b[0m             \u001b[0mservice_args\u001b[0m\u001b[1;33m=\u001b[0m\u001b[0mservice_args\u001b[0m\u001b[1;33m,\u001b[0m\u001b[1;33m\u001b[0m\u001b[1;33m\u001b[0m\u001b[0m\n\u001b[0;32m     67\u001b[0m             log_path=service_log_path)\n\u001b[1;32m---> 68\u001b[1;33m         \u001b[0mself\u001b[0m\u001b[1;33m.\u001b[0m\u001b[0mservice\u001b[0m\u001b[1;33m.\u001b[0m\u001b[0mstart\u001b[0m\u001b[1;33m(\u001b[0m\u001b[1;33m)\u001b[0m\u001b[1;33m\u001b[0m\u001b[1;33m\u001b[0m\u001b[0m\n\u001b[0m\u001b[0;32m     69\u001b[0m \u001b[1;33m\u001b[0m\u001b[0m\n\u001b[0;32m     70\u001b[0m         \u001b[1;32mtry\u001b[0m\u001b[1;33m:\u001b[0m\u001b[1;33m\u001b[0m\u001b[1;33m\u001b[0m\u001b[0m\n",
      "\u001b[1;32m~\\Anaconda3\\lib\\site-packages\\selenium\\webdriver\\common\\service.py\u001b[0m in \u001b[0;36mstart\u001b[1;34m(self)\u001b[0m\n\u001b[0;32m     81\u001b[0m                 raise WebDriverException(\n\u001b[0;32m     82\u001b[0m                     \"'%s' executable needs to be in PATH. %s\" % (\n\u001b[1;32m---> 83\u001b[1;33m                         os.path.basename(self.path), self.start_error_message)\n\u001b[0m\u001b[0;32m     84\u001b[0m                 )\n\u001b[0;32m     85\u001b[0m             \u001b[1;32melif\u001b[0m \u001b[0merr\u001b[0m\u001b[1;33m.\u001b[0m\u001b[0merrno\u001b[0m \u001b[1;33m==\u001b[0m \u001b[0merrno\u001b[0m\u001b[1;33m.\u001b[0m\u001b[0mEACCES\u001b[0m\u001b[1;33m:\u001b[0m\u001b[1;33m\u001b[0m\u001b[1;33m\u001b[0m\u001b[0m\n",
      "\u001b[1;31mWebDriverException\u001b[0m: Message: 'chromedriver' executable needs to be in PATH. Please see https://sites.google.com/a/chromium.org/chromedriver/home\n"
     ]
    }
   ],
   "source": [
    "from selenium import webdriver\n",
    "from bs4 import BeautifulSoup\n",
    "import time\n",
    "\n",
    "\n",
    "driver = webdriver.Chrome('./chromedriver') \n",
    "comments=[] #댓글들 담을 list\n",
    "for url in urls_list:\n",
    "    try:\n",
    "        print(url+' 크롤링 중')\n",
    "        driver.get(url)\n",
    "        time.sleep(3) #댓글 불러오기 기다림\n",
    "        \n",
    "        finish_flag = 1 # 댓글 더보기 버튼 클릭 횟수 제한하기\n",
    "        while finish_flag == 1:\n",
    "            try:\n",
    "                driver.find_element_by_class_name('link_fold').click()\n",
    "                time.sleep(3)# ip차단 방지\n",
    "                \n",
    "                driver.find_element_by_xpath('//*[@id=\"comment459089131\"]/div/div/span[2]').click()\n",
    "                time.sleep(2)\n",
    "                    \n",
    "                driver.find_element_by_xpath('//*[@id=\"comment443137110\"]/div/div[2]/div[3]/a').click()\n",
    "                time.sleep(1)\n",
    "            \n",
    "                \n",
    "            except:\n",
    "                finish_flag = 0 # false일 경우 멈추고 아래 코드로 이동.\n",
    "        \n",
    "                    \n",
    "            html = driver.page_source\n",
    "\n",
    "            bs = BeautifulSoup(html, 'html.parser')\n",
    "            contents = bs.find_all(\"p\", {\"class\" : \"desc_txt font_size_17\"}) #댓글 담긴 span tag 찾기\n",
    "            for content in contents :\n",
    "                print(content.text)\n",
    "                comments.append(content.text)\n",
    "\n",
    "    except:\n",
    "        print(\"존재하지 않는 url입니다.\")\n",
    "\n",
    "        \n",
    "\n",
    "# 크롤링 중 같은 페이지가 반복되는 오류 있음. 크롤링이 멈추지 않음. \n",
    "# 답댓글도 크롤링이 안됨."
   ]
  },
  {
   "cell_type": "code",
   "execution_count": null,
   "metadata": {},
   "outputs": [],
   "source": [
    "len(comments) #댓글 수"
   ]
  },
  {
   "cell_type": "code",
   "execution_count": null,
   "metadata": {},
   "outputs": [],
   "source": [
    "comments_str=\" \".join(commens) #댓글 string으로\n",
    "\n",
    "comments_str"
   ]
  },
  {
   "cell_type": "code",
   "execution_count": null,
   "metadata": {},
   "outputs": [],
   "source": [
    "# comments_str 저장\n",
    "save=open(\"daum_comments.txt\", 'w' , encoding='utf-8' )\n",
    "save.write(comments_str)\n",
    "save.close()"
   ]
  },
  {
   "cell_type": "code",
   "execution_count": null,
   "metadata": {},
   "outputs": [],
   "source": [
    "with open('daum_comments.txt', 'r', encoding= 'utf-8') as f: \n",
    "    doc = ''  # 리뷰 데이터를 담기 위한 String 변수 생성\n",
    "    lines = f.readlines()  # 영화 리뷰 파일의 모든 라인을 읽어와 리스트로 저장\n",
    "    for line in lines:  # for문을 통해 lines에 있는 모든 텍스트를 doc2에 이어 붙임\n",
    "        doc += line"
   ]
  },
  {
   "cell_type": "code",
   "execution_count": null,
   "metadata": {},
   "outputs": [],
   "source": [
    "doc"
   ]
  },
  {
   "cell_type": "code",
   "execution_count": null,
   "metadata": {},
   "outputs": [],
   "source": [
    "from collections import Counter\n",
    "from konlpy.tag import Twitter\n",
    "\n",
    "# articles = df['Article'].tolist()\n",
    "# articles = ''.join(articles)\n",
    "\n",
    "twitter = Twitter()\n",
    "raw_pos_tagged = twitter.pos(doc, norm=True, stem=True)\n",
    "\n",
    "raw_pos_tagged"
   ]
  },
  {
   "cell_type": "code",
   "execution_count": null,
   "metadata": {},
   "outputs": [],
   "source": [
    "test_str='완전 위해 절대 그게 아무'\n",
    "test=twitter.pos(test_str, norm=True, stem=True)\n",
    "print(test)"
   ]
  },
  {
   "cell_type": "code",
   "execution_count": null,
   "metadata": {},
   "outputs": [],
   "source": [
    "\n",
    "\n",
    "del_list = ['하다', '있다', '되다', '이다', '돼다', '않다', '그렇다', '아니다', '이렇다', '그렇다','어떻다','ㅋㅋ','ㅋㅋㅋ','ㅠㅠ','ㅉㅉ','ㅎㅎ','없다','위해','완전','절대','그게','아무','건가','나다','모두','이미'] \n",
    "word_cleaned = []\n",
    "for word in raw_pos_tagged:\n",
    "    if not word[1] in [\"Josa\", \"Eomi\", \"Punctuation\", \"Foreign\",\"Adverb\",\"Suffix\"]: # Foreign == ”, “ 와 같이 제외되어야할 항목들\n",
    "        if (len(word[0]) != 1) & (word[0] not in del_list): # 한 글자로 이뤄진 단어들을 제외 & 원치 않는 단어들을 제외\n",
    "            if(word[0].isalpha()): #숫자 뺌\n",
    "                word_cleaned.append(word[0])\n",
    "\n",
    "word_counted = Counter(word_cleaned)\n",
    "word_dic = dict(word_counted)\n",
    "        \n",
    "sorted_word_dic = sorted(word_dic.items(), key=lambda x:x[1], reverse=True)\n",
    "\n",
    "sorted_word_dic"
   ]
  },
  {
   "cell_type": "code",
   "execution_count": null,
   "metadata": {},
   "outputs": [],
   "source": [
    "# 빈도 순으로 상위 100개에 해당하는 단어까지만 추려내어 번역을 진행합니다. (늘릴 수 있습니다.)\n",
    "\n",
    "translation_target = sorted_word_dic[:100] \n",
    "translation_target[-1] # 상위 100번째에 해당하는 단어의 빈도수를 확인합니다. (가장 마지막 item을 호출하려면?)"
   ]
  },
  {
   "cell_type": "code",
   "execution_count": null,
   "metadata": {},
   "outputs": [],
   "source": [
    "translation_target = {}\n",
    "for item in word_dic: #item에 키값 들어감\n",
    "    if word_dic[item] >= 31: # 위에서 확인한 빈도수를 기반으로 번역 대상 단어를 선정합니다.\n",
    "        translation_target[item] = word_dic[item]"
   ]
  },
  {
   "cell_type": "code",
   "execution_count": null,
   "metadata": {},
   "outputs": [],
   "source": [
    "print(translation_target)\n"
   ]
  },
  {
   "cell_type": "code",
   "execution_count": null,
   "metadata": {},
   "outputs": [],
   "source": [
    "#워드 클라우드\n",
    "# WordCloud 패키지를 import 합니다.\n",
    "from wordcloud import WordCloud\n",
    "import matplotlib.pyplot as plt\n",
    "from PIL import Image # 만약 \"No module named 'PIL'\" 에러가 발생하면 [ pip install Pillow==5.4.1 ] 로 라이브러리를 설치해줍니다.\n",
    "\n",
    "import numpy as np\n",
    "import matplotlib.pyplot as plt\n",
    "%matplotlib inline"
   ]
  },
  {
   "cell_type": "code",
   "execution_count": null,
   "metadata": {},
   "outputs": [],
   "source": [
    "# WordCloud 객체를 생성합니다.\n",
    "# 아래 보이는 코드의 font_path 에 해당하는 부분이 워드클라우드의 폰트에 적용됩니다. (대체로 고딕 계열 폰트가 이쁘게 나옵니다)\n",
    "# 만약 다른 폰트를 적용하려면, C > Windows > Fonts 폴더에 원하시는 폰트 파일(.ttf)을 넣은 후 아래 코드에서 font 이름을 수정해줍니다.\n",
    "\n",
    "# word_cloud = WordCloud().generate(text) : dict 가 아닌 줄글 텍스트 원문으로부터 워드클라우드를 만들 수 있습니다.\n",
    "# word_cloud = WordCloud(font_path=\"fonts/malgun.ttf\", # font_path=\"C:/Windows/Fonts/NanumSquareB.ttf\"\n",
    "#                        width=2000, height=1000, # 이 부분을 수정하시면 실제 워드클라우드의 크기가 바뀝니다 (해상도가 바뀝니다)\n",
    "#                        # prefer_horizontal= 1.0, # 이 부분의 주석을 해제하시면 단어들이 가로로만 그려지게 됩니다. (0~1)\n",
    "#                        background_color='white')"
   ]
  },
  {
   "cell_type": "code",
   "execution_count": null,
   "metadata": {},
   "outputs": [],
   "source": [
    "# word_cloud.generate_from_frequencies(word_dic) # Generate wordcloud from word \"frequency\" data."
   ]
  },
  {
   "cell_type": "code",
   "execution_count": null,
   "metadata": {},
   "outputs": [],
   "source": [
    "# # 생성한 WordCloud 객체로부터 워드클라우드를 보여주는 코드입니다.\n",
    "\n",
    "# plt.figure(figsize=(15,15)) # 이 부분을 수정하시면 화면에서 보여지는 워드클라우드의 크기가 바뀝니다 \n",
    "# plt.imshow(word_cloud) # image show\n",
    "# plt.axis(\"off\")\n",
    "# plt.tight_layout(pad=0)\n",
    "# plt.show()"
   ]
  },
  {
   "cell_type": "code",
   "execution_count": null,
   "metadata": {},
   "outputs": [],
   "source": [
    "# word_cloud.to_file(\"word_cloud.png\")"
   ]
  },
  {
   "cell_type": "code",
   "execution_count": null,
   "metadata": {
    "scrolled": false
   },
   "outputs": [],
   "source": [
    "from wordcloud import ImageColorGenerator # Image 로부터 Color 를 생성(Generate)해내는 객체입니다.\n",
    "\n",
    "coloring = np.array(Image.open(\"./yellow-house.png\"))\n",
    "image_colors = ImageColorGenerator(coloring)\n",
    "\n",
    "word_cloud = WordCloud(font_path=\"fonts/malgun.ttf\", # font_path=\"C:/Windows/Fonts/NanumSquareB.ttf\"\n",
    "                       width=2000, height=1000,  \n",
    "                       mask=coloring, \n",
    "                       background_color='white').generate_from_frequencies(word_dic)\n",
    "\n",
    "plt.figure(figsize=(15,15))\n",
    "plt.imshow(word_cloud.recolor(color_func=image_colors), interpolation='bilinear') # 다시(re) 색칠하기\n",
    "# plt.imshow(word_cloud.?(colormap='Blues'), interpolation='bilinear') # Matplotlib colormap 활용 (http://j.mp/32UXOQ6)\n",
    "plt.axis(\"off\")\n",
    "plt.tight_layout(pad=0)\n",
    "plt.show()"
   ]
  },
  {
   "cell_type": "code",
   "execution_count": null,
   "metadata": {},
   "outputs": [],
   "source": [
    "word_cloud.to_file(\"daum_word_cloud_coloring.png\")"
   ]
  },
  {
   "cell_type": "code",
   "execution_count": null,
   "metadata": {},
   "outputs": [],
   "source": [
    "coloring = np.array(Image.open(\"./yellow-house.png\"))\n",
    "image_colors = ImageColorGenerator(coloring)\n",
    "\n",
    "word_cloud = WordCloud(font_path=\"fonts/malgun.ttf\", # font_path=\"C:/Windows/Fonts/NanumSquareB.ttf\"\n",
    "                       width=2000, height=1000,  \n",
    "                       mask=coloring, \n",
    "                       background_color='white').generate(doc)\n",
    "\n",
    "plt.figure(figsize=(15,15)) # 이 부분을 수정하시면 화면에서 보여지는 워드클라우드의 크기가 바뀝니다 \n",
    "plt.imshow(word_cloud) # image show\n",
    "plt.axis(\"off\")\n",
    "plt.tight_layout(pad=0)\n",
    "plt.show()"
   ]
  },
  {
   "cell_type": "code",
   "execution_count": null,
   "metadata": {},
   "outputs": [],
   "source": []
  }
 ],
 "metadata": {
  "kernelspec": {
   "display_name": "Python 3",
   "language": "python",
   "name": "python3"
  },
  "language_info": {
   "codemirror_mode": {
    "name": "ipython",
    "version": 3
   },
   "file_extension": ".py",
   "mimetype": "text/x-python",
   "name": "python",
   "nbconvert_exporter": "python",
   "pygments_lexer": "ipython3",
   "version": "3.7.3"
  }
 },
 "nbformat": 4,
 "nbformat_minor": 2
}
